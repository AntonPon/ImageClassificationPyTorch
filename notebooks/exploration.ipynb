{
 "cells": [
  {
   "cell_type": "code",
   "execution_count": 2,
   "outputs": [],
   "source": [
    "import os\n",
    "import csv\n",
    "import numpy as np\n",
    "from glob import glob\n",
    "import json"
   ],
   "metadata": {
    "collapsed": false,
    "pycharm": {
     "name": "#%%\n",
     "is_executing": false
    }
   }
  },
  {
   "cell_type": "code",
   "execution_count": 3,
   "outputs": [
    {
     "name": "stdout",
     "text": [
      "['anno', 'val2017', 'train2017', 'csv']\n../data/anno\n"
     ],
     "output_type": "stream"
    }
   ],
   "source": [
    "print(os.listdir('../data'))\n",
    "path_base = '../data'\n",
    "path_to_annot = os.path.join(path_base, 'anno')\n",
    "\n",
    "print(path_to_annot)"
   ],
   "metadata": {
    "collapsed": false,
    "pycharm": {
     "name": "#%%\n",
     "is_executing": false
    }
   }
  },
  {
   "cell_type": "code",
   "execution_count": 4,
   "outputs": [],
   "source": [
    "train_annot = glob(os.path.join(path_to_annot, 'train*/*.json'), recursive=True)\n",
    "val_annot = glob(os.path.join(path_to_annot, 'val*/*.json'), recursive=True)"
   ],
   "metadata": {
    "collapsed": false,
    "pycharm": {
     "name": "#%%\n",
     "is_executing": false
    }
   }
  },
  {
   "cell_type": "code",
   "execution_count": 5,
   "outputs": [
    {
     "name": "stdout",
     "text": [
      "train annot size:  10000\nval annot size:  4167\n"
     ],
     "output_type": "stream"
    }
   ],
   "source": [
    "print('train annot size: ', len(train_annot))\n",
    "print('val annot size: ', len(val_annot))"
   ],
   "metadata": {
    "collapsed": false,
    "pycharm": {
     "name": "#%%\n",
     "is_executing": false
    }
   }
  },
  {
   "cell_type": "code",
   "execution_count": 6,
   "outputs": [
    {
     "name": "stdout",
     "text": [
      "train imgs size:  10000\nval imgs size:  4167\n"
     ],
     "output_type": "stream"
    }
   ],
   "source": [
    "training_img = glob(os.path.join(path_base, 'train*/*'))\n",
    "print('train imgs size: ', len(training_img))\n",
    "val_img = glob(os.path.join(path_base, 'val*/*'))\n",
    "print('val imgs size: ', len(val_img))"
   ],
   "metadata": {
    "collapsed": false,
    "pycharm": {
     "name": "#%%\n",
     "is_executing": false
    }
   }
  },
  {
   "cell_type": "code",
   "execution_count": 7,
   "outputs": [],
   "source": [
    "def read_json(path_to_file):\n",
    "    with open(path_to_file) as file:\n",
    "        json_data = json.load(file)\n",
    "    return json_data"
   ],
   "metadata": {
    "collapsed": false,
    "pycharm": {
     "name": "#%%\n",
     "is_executing": false
    }
   }
  },
  {
   "cell_type": "code",
   "execution_count": 8,
   "outputs": [
    {
     "name": "stdout",
     "text": [
      "total number of labels 68\n"
     ],
     "output_type": "stream"
    }
   ],
   "source": [
    "classes = set()\n",
    "i = 0\n",
    "for f in train_annot + val_annot:\n",
    "    j_data = read_json(f) \n",
    "    i += 1\n",
    "    for label in j_data['labels']:\n",
    "        classes.add(label)\n",
    "print('total number of labels',  len(classes))"
   ],
   "metadata": {
    "collapsed": false,
    "pycharm": {
     "name": "#%%\n",
     "is_executing": false
    }
   }
  },
  {
   "cell_type": "code",
   "execution_count": 9,
   "outputs": [
    {
     "name": "stdout",
     "text": [
      "a39_disability_physical\na10_face_partial\na0_safe\na7_fingerprint\na9_face_complete\na31_passport\na38_ticket\na12_semi_nudity\na13_full_nudity\na30_credit_card\n"
     ],
     "output_type": "stream"
    }
   ],
   "source": [
    "labels_to_find = ['nudity', 'face', 'credit_card', 'passport', 'ticket', 'disability_physical', \n",
    "                  'fingerprint', 'safe']\n",
    "for label in classes:\n",
    "    for l in labels_to_find:\n",
    "        if l in label:\n",
    "            print(label)"
   ],
   "metadata": {
    "collapsed": false,
    "pycharm": {
     "name": "#%%\n",
     "is_executing": false
    }
   }
  },
  {
   "cell_type": "code",
   "execution_count": 10,
   "outputs": [],
   "source": [
    "def get_output_dict(list_to_process, labels_to_predict):\n",
    "    output_data = {}\n",
    "    for f in list_to_process:\n",
    "        j_data = read_json(f)\n",
    "        values = np.zeros(len(labels_to_predict))\n",
    "        for label in j_data['labels']:\n",
    "            for idx, l in enumerate(labels_to_predict):\n",
    "                if l in label:\n",
    "                    values[idx] = 1\n",
    "        img_path = j_data['image_path'].split('/')[-1]\n",
    "        output_data[img_path] = values\n",
    "    return output_data\n",
    "                    "
   ],
   "metadata": {
    "collapsed": false,
    "pycharm": {
     "name": "#%%\n",
     "is_executing": false
    }
   }
  },
  {
   "cell_type": "code",
   "execution_count": 18,
   "outputs": [],
   "source": [
    "step = 4000\n",
    "start = 0\n",
    "data = val_annot\n",
    "data_name = 'val'\n",
    "for end in range(step, len(data), step):\n",
    "    if end + step >= len(data):\n",
    "        end += len(data) - end\n",
    "    result = get_output_dict(data[start:end], labels_to_find)\n",
    "    with open('{}_{}_{}.csv'.format(data_name,start, end), 'w') as f:\n",
    "        writer = csv.writer(f)\n",
    "        for key in result.keys():\n",
    "            writer.writerow((key, *result[key]))\n",
    "    start = end"
   ],
   "metadata": {
    "collapsed": false,
    "pycharm": {
     "name": "#%%\n",
     "is_executing": false
    }
   }
  },
  {
   "cell_type": "code",
   "execution_count": 95,
   "outputs": [
    {
     "name": "stdout",
     "text": [
      "[1]\n"
     ],
     "output_type": "stream"
    }
   ],
   "source": [],
   "metadata": {
    "collapsed": false,
    "pycharm": {
     "name": "#%%",
     "is_executing": false
    }
   }
  }
 ],
 "metadata": {
  "language_info": {
   "codemirror_mode": {
    "name": "ipython",
    "version": 2
   },
   "file_extension": ".py",
   "mimetype": "text/x-python",
   "name": "python",
   "nbconvert_exporter": "python",
   "pygments_lexer": "ipython2",
   "version": "2.7.6"
  },
  "kernelspec": {
   "name": "python3",
   "language": "python",
   "display_name": "Python 3"
  },
  "pycharm": {
   "stem_cell": {
    "cell_type": "raw",
    "source": [],
    "metadata": {
     "collapsed": false
    }
   }
  }
 },
 "nbformat": 4,
 "nbformat_minor": 0
}